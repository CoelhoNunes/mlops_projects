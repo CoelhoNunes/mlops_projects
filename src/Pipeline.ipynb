{
 "cells": [
  {
   "cell_type": "markdown",
   "id": "4819e85f",
   "metadata": {},
   "source": [
    "## ML Pipelines with ZenML  \n",
    "\n",
    "**Key Concepts:** *ML Pipelines, Steps*  \n",
    "\n",
    "- In this notebook, techniques are shown on how to easily convert existing ML code into ML pipelines using ZenML.  \n",
    "- Models will be built with [sklearn](https://scikit-learn.org).  \n",
    "- ZenML & sklearn integration installed. Use the following command, which will also restart the kernel of your notebook:  \n",
    "\n",
    "```bash\n",
    "# Install ZenML with server extras\n",
    "python -m pip install \"zenml[server]\"\n",
    "\n",
    "# Install sklearn integration for ZenML\n",
    "python -m zenml integration install sklearn -y\n"
   ]
  },
  {
   "cell_type": "code",
   "execution_count": 1,
   "id": "22a39ddc",
   "metadata": {},
   "outputs": [],
   "source": [
    "import IPython"
   ]
  },
  {
   "cell_type": "code",
   "execution_count": null,
   "id": "2e426197",
   "metadata": {},
   "outputs": [],
   "source": []
  },
  {
   "cell_type": "code",
   "execution_count": null,
   "id": "6f69e8e0",
   "metadata": {},
   "outputs": [],
   "source": []
  },
  {
   "cell_type": "code",
   "execution_count": null,
   "id": "f391893f",
   "metadata": {},
   "outputs": [],
   "source": []
  }
 ],
 "metadata": {
  "kernelspec": {
   "display_name": "Python 3",
   "language": "python",
   "name": "python3"
  },
  "language_info": {
   "codemirror_mode": {
    "name": "ipython",
    "version": 3
   },
   "file_extension": ".py",
   "mimetype": "text/x-python",
   "name": "python",
   "nbconvert_exporter": "python",
   "pygments_lexer": "ipython3",
   "version": "3.11.9"
  }
 },
 "nbformat": 4,
 "nbformat_minor": 5
}
