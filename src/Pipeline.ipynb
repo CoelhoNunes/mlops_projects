{
 "cells": [
  {
   "cell_type": "markdown",
   "id": "4819e85f",
   "metadata": {},
   "source": [
    "## ML Pipelines with ZenML  \n",
    "\n",
    "**Key Concepts:** *ML Pipelines, Steps*  \n",
    "\n",
    "- In this notebook, techniques are shown on how to easily convert existing ML code into ML pipelines using ZenML.  \n",
    "- Models will be built with [sklearn](https://scikit-learn.org).  \n",
    "- ZenML & sklearn integration installed. Use the following command, which will also restart the kernel of your notebook:  \n",
    "\n",
    "```bash\n",
    "pip install zenml[server]\n"
   ]
  },
  {
   "cell_type": "code",
   "execution_count": null,
   "id": "22a39ddc",
   "metadata": {
    "vscode": {
     "languageId": "plaintext"
    }
   },
   "outputs": [],
   "source": []
  },
  {
   "cell_type": "code",
   "execution_count": null,
   "id": "2e426197",
   "metadata": {
    "vscode": {
     "languageId": "plaintext"
    }
   },
   "outputs": [],
   "source": []
  },
  {
   "cell_type": "code",
   "execution_count": null,
   "id": "6f69e8e0",
   "metadata": {
    "vscode": {
     "languageId": "plaintext"
    }
   },
   "outputs": [],
   "source": []
  },
  {
   "cell_type": "code",
   "execution_count": null,
   "id": "f391893f",
   "metadata": {
    "vscode": {
     "languageId": "plaintext"
    }
   },
   "outputs": [],
   "source": []
  }
 ],
 "metadata": {
  "language_info": {
   "name": "python"
  }
 },
 "nbformat": 4,
 "nbformat_minor": 5
}
